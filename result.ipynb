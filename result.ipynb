{
 "cells": [
  {
   "cell_type": "code",
   "execution_count": 1,
   "metadata": {},
   "outputs": [
    {
     "data": {
      "text/html": [
       "<div>\n",
       "<style scoped>\n",
       "    .dataframe tbody tr th:only-of-type {\n",
       "        vertical-align: middle;\n",
       "    }\n",
       "\n",
       "    .dataframe tbody tr th {\n",
       "        vertical-align: top;\n",
       "    }\n",
       "\n",
       "    .dataframe thead th {\n",
       "        text-align: right;\n",
       "    }\n",
       "</style>\n",
       "<table border=\"1\" class=\"dataframe\">\n",
       "  <thead>\n",
       "    <tr style=\"text-align: right;\">\n",
       "      <th></th>\n",
       "      <th>Country</th>\n",
       "      <th>Country id</th>\n",
       "      <th>Year</th>\n",
       "      <th>Region</th>\n",
       "      <th>Income level</th>\n",
       "      <th>Lending type</th>\n",
       "      <th>Longitude</th>\n",
       "      <th>Latitude</th>\n",
       "      <th>Population</th>\n",
       "      <th>GDP</th>\n",
       "      <th>Unemployment rate</th>\n",
       "      <th>Inflation</th>\n",
       "      <th>Exports of goods and services</th>\n",
       "      <th>Imports of goods and services</th>\n",
       "      <th>Investments</th>\n",
       "      <th>Public debt</th>\n",
       "      <th>Consumer price indices</th>\n",
       "      <th>Interest rates</th>\n",
       "      <th>Unemployment</th>\n",
       "    </tr>\n",
       "  </thead>\n",
       "  <tbody>\n",
       "    <tr>\n",
       "      <th>0</th>\n",
       "      <td>United States</td>\n",
       "      <td>USA</td>\n",
       "      <td>2022</td>\n",
       "      <td>North America</td>\n",
       "      <td>High income</td>\n",
       "      <td>Not classified</td>\n",
       "      <td>-77.032</td>\n",
       "      <td>38.8895</td>\n",
       "      <td>NaN</td>\n",
       "      <td>NaN</td>\n",
       "      <td>3.611</td>\n",
       "      <td>8.002800</td>\n",
       "      <td>NaN</td>\n",
       "      <td>NaN</td>\n",
       "      <td>NaN</td>\n",
       "      <td>NaN</td>\n",
       "      <td>134.211206</td>\n",
       "      <td>NaN</td>\n",
       "      <td>3.611</td>\n",
       "    </tr>\n",
       "    <tr>\n",
       "      <th>1</th>\n",
       "      <td>United States</td>\n",
       "      <td>USA</td>\n",
       "      <td>2021</td>\n",
       "      <td>North America</td>\n",
       "      <td>High income</td>\n",
       "      <td>Not classified</td>\n",
       "      <td>-77.032</td>\n",
       "      <td>38.8895</td>\n",
       "      <td>331893745.0</td>\n",
       "      <td>2.331508e+13</td>\n",
       "      <td>5.350</td>\n",
       "      <td>4.697859</td>\n",
       "      <td>2.539648e+12</td>\n",
       "      <td>3.401361e+12</td>\n",
       "      <td>4.920488e+12</td>\n",
       "      <td>120.374017</td>\n",
       "      <td>124.266414</td>\n",
       "      <td>-1.189357</td>\n",
       "      <td>5.350</td>\n",
       "    </tr>\n",
       "    <tr>\n",
       "      <th>2</th>\n",
       "      <td>United States</td>\n",
       "      <td>USA</td>\n",
       "      <td>2020</td>\n",
       "      <td>North America</td>\n",
       "      <td>High income</td>\n",
       "      <td>Not classified</td>\n",
       "      <td>-77.032</td>\n",
       "      <td>38.8895</td>\n",
       "      <td>331501080.0</td>\n",
       "      <td>2.106047e+13</td>\n",
       "      <td>8.050</td>\n",
       "      <td>1.233584</td>\n",
       "      <td>2.148616e+12</td>\n",
       "      <td>2.776115e+12</td>\n",
       "      <td>4.433432e+12</td>\n",
       "      <td>126.232494</td>\n",
       "      <td>118.690502</td>\n",
       "      <td>2.210411</td>\n",
       "      <td>8.050</td>\n",
       "    </tr>\n",
       "    <tr>\n",
       "      <th>3</th>\n",
       "      <td>United States</td>\n",
       "      <td>USA</td>\n",
       "      <td>2019</td>\n",
       "      <td>North America</td>\n",
       "      <td>High income</td>\n",
       "      <td>Not classified</td>\n",
       "      <td>-77.032</td>\n",
       "      <td>38.8895</td>\n",
       "      <td>328329953.0</td>\n",
       "      <td>2.138098e+13</td>\n",
       "      <td>3.670</td>\n",
       "      <td>1.812210</td>\n",
       "      <td>2.538450e+12</td>\n",
       "      <td>3.117235e+12</td>\n",
       "      <td>4.558260e+12</td>\n",
       "      <td>100.805042</td>\n",
       "      <td>117.244195</td>\n",
       "      <td>3.427090</td>\n",
       "      <td>3.670</td>\n",
       "    </tr>\n",
       "    <tr>\n",
       "      <th>4</th>\n",
       "      <td>United States</td>\n",
       "      <td>USA</td>\n",
       "      <td>2018</td>\n",
       "      <td>North America</td>\n",
       "      <td>High income</td>\n",
       "      <td>Not classified</td>\n",
       "      <td>-77.032</td>\n",
       "      <td>38.8895</td>\n",
       "      <td>326838199.0</td>\n",
       "      <td>2.053306e+13</td>\n",
       "      <td>3.900</td>\n",
       "      <td>2.442583</td>\n",
       "      <td>2.538089e+12</td>\n",
       "      <td>3.131166e+12</td>\n",
       "      <td>4.354223e+12</td>\n",
       "      <td>99.060976</td>\n",
       "      <td>115.157303</td>\n",
       "      <td>2.441415</td>\n",
       "      <td>3.900</td>\n",
       "    </tr>\n",
       "  </tbody>\n",
       "</table>\n",
       "</div>"
      ],
      "text/plain": [
       "         Country Country id  Year         Region Income level    Lending type  \\\n",
       "0  United States        USA  2022  North America  High income  Not classified   \n",
       "1  United States        USA  2021  North America  High income  Not classified   \n",
       "2  United States        USA  2020  North America  High income  Not classified   \n",
       "3  United States        USA  2019  North America  High income  Not classified   \n",
       "4  United States        USA  2018  North America  High income  Not classified   \n",
       "\n",
       "  Longitude Latitude   Population           GDP  Unemployment rate  Inflation  \\\n",
       "0   -77.032  38.8895          NaN           NaN              3.611   8.002800   \n",
       "1   -77.032  38.8895  331893745.0  2.331508e+13              5.350   4.697859   \n",
       "2   -77.032  38.8895  331501080.0  2.106047e+13              8.050   1.233584   \n",
       "3   -77.032  38.8895  328329953.0  2.138098e+13              3.670   1.812210   \n",
       "4   -77.032  38.8895  326838199.0  2.053306e+13              3.900   2.442583   \n",
       "\n",
       "   Exports of goods and services  Imports of goods and services   Investments  \\\n",
       "0                            NaN                            NaN           NaN   \n",
       "1                   2.539648e+12                   3.401361e+12  4.920488e+12   \n",
       "2                   2.148616e+12                   2.776115e+12  4.433432e+12   \n",
       "3                   2.538450e+12                   3.117235e+12  4.558260e+12   \n",
       "4                   2.538089e+12                   3.131166e+12  4.354223e+12   \n",
       "\n",
       "   Public debt  Consumer price indices  Interest rates  Unemployment  \n",
       "0          NaN              134.211206             NaN         3.611  \n",
       "1   120.374017              124.266414       -1.189357         5.350  \n",
       "2   126.232494              118.690502        2.210411         8.050  \n",
       "3   100.805042              117.244195        3.427090         3.670  \n",
       "4    99.060976              115.157303        2.441415         3.900  "
      ]
     },
     "execution_count": 1,
     "metadata": {},
     "output_type": "execute_result"
    }
   ],
   "source": [
    "import requests\n",
    "import pandas as pd\n",
    "#Здесь просто превращаю данные сайта в табоицу (если перейти по ссылке, данные довольно тяжело считывать, так как значения храняться во вложенных словарях в списках)\n",
    "def fetch_indicator_data(country_id, indicator_code):\n",
    "    url = f\"https://api.worldbank.org/v2/country/{country_id}/indicator/{indicator_code}?format=json\"\n",
    "    response = requests.get(url)\n",
    "    data = response.json()\n",
    "\n",
    "    indicator_data = {}\n",
    "    if data[1]:\n",
    "        for item in data[1]:\n",
    "            year = item['date']\n",
    "            value = item['value']\n",
    "            indicator_data[year] = value\n",
    "\n",
    "    return indicator_data\n",
    "\n",
    "def get_country_data():\n",
    "    country_ids = ['USA', 'CHN', 'JPN', 'DEU', 'IND', 'GBR', 'FRA', 'ITA', 'CAN', 'KOR',\n",
    "               'AUS', 'RUS', 'BRA', 'ESP', 'MEX', 'IDN', 'NLD', 'SAU', 'CHE', 'TUR',\n",
    "               'ARG', 'SWE', 'POL', 'BEL', 'THA', 'IRN', 'AUT', 'NOR', 'ARE', 'ISR',\n",
    "               'DNK', 'ZAF', 'MYS', 'SGP', 'PHL', 'COL', 'CHL', 'FIN', 'EGY', 'PAK',\n",
    "               'PRT', 'VNM', 'CZE', 'ROU', 'PER', 'GRC', 'IRL', 'NZL', 'DZA', 'QAT',\n",
    "               'HUN', 'KAZ', 'UKR', 'KWT', 'MAR', 'BGD', 'IRQ', 'NGA', 'SVK', 'AGO',\n",
    "               'ECU', 'LKA', 'ETH', 'OMN', 'DOM', 'KEN', 'GTM', 'PAN', 'GHA', 'MMR',\n",
    "               'CUB', 'TZA', 'URY', 'PRI', 'LBN', 'CRI', 'SRB', 'LTU', 'TKM', 'JOR',\n",
    "               'BGR', 'SVN', 'AZE', 'HRV', 'BOL', 'TUN', 'BLR', 'PRY', 'EST', 'LBY',\n",
    "               'LVA', 'SLV', 'UZB', 'CIV', 'TTO', 'HND', 'CYP', 'LUX']\n",
    "\n",
    "    # Создаем пустой датафрйем для хранения данных\n",
    "    df = pd.DataFrame(columns=['Country', 'Country id', 'Year', 'Region', 'Income level', 'Lending type', \n",
    "                               'Longitude', 'Latitude', 'Population', \"GDP\", \"Unemployment rate\", \"Inflation\", \n",
    "                               \"Exports of goods and services\", \"Imports of goods and services\", \"Investments\",\n",
    "                               \"Public debt\", \"Consumer price indices\", \"Interest rates\"])\n",
    "    # Итерируемся по каждой стране в списке country_ids меняя в ссылке id страны, чтобы получить данные по каждой стране\n",
    "    for country_id in country_ids:\n",
    "        country_info_url = f\"https://api.worldbank.org/v2/country/{country_id}?format=json\"\n",
    "        response = requests.get(country_info_url)\n",
    "        country = response.json()[1][0]\n",
    "\n",
    "        country_info = {\n",
    "            \"Country ID\": country[\"id\"],\n",
    "            \"Country Name\": country[\"name\"],\n",
    "            \"Region\": country[\"region\"][\"value\"],\n",
    "            \"Admin Region\": country.get(\"adminregion\", {}).get(\"value\", None),\n",
    "            \"Income Level\": country[\"incomeLevel\"][\"value\"],\n",
    "            \"Lending Type\": country[\"lendingType\"][\"value\"],\n",
    "            \"Capital City\": country[\"capitalCity\"],\n",
    "            \"Longitude\": country[\"longitude\"],\n",
    "            \"Latitude\": country[\"latitude\"],\n",
    "        }\n",
    "\n",
    "        parameters = [\n",
    "            {\"indicator\": \"SP.POP.TOTL\", \"parameter\": \"Population\"},\n",
    "            {\"indicator\": \"NY.GDP.MKTP.CD\", \"parameter\": \"GDP\"},\n",
    "            {\"indicator\": \"SL.UEM.TOTL.ZS\", \"parameter\": \"Unemployment\"},\n",
    "            {\"indicator\": \"SL.UEM.TOTL.ZS\", \"parameter\": \"Unemployment rate\"},\n",
    "            {\"indicator\": \"FP.CPI.TOTL.ZG\", \"parameter\": \"Inflation\"},\n",
    "            {\"indicator\": \"NE.EXP.GNFS.CD\", \"parameter\": \"Exports of goods and services\"},\n",
    "            {\"indicator\": \"NE.IMP.GNFS.CD\", \"parameter\": \"Imports of goods and services\"},\n",
    "            {\"indicator\": \"NE.GDI.TOTL.CD\", \"parameter\": \"Investments\"},\n",
    "            {\"indicator\": \"GC.DOD.TOTL.GD.ZS\", \"parameter\": \"Public debt\"},\n",
    "            {\"indicator\": \"FP.CPI.TOTL\", \"parameter\": \"Consumer price indices\"},\n",
    "            {\"indicator\": \"FR.INR.RINR\", \"parameter\": \"Interest rates\"},\n",
    "        ]\n",
    "        # тут временно храним данные по текущей стране\n",
    "        df_local = pd.DataFrame(columns=['Country',\n",
    "                                        'Country id',\n",
    "                                        'Year',\n",
    "                                        'Region',\n",
    "                                        'Income level',\n",
    "                                        'Lending type',\n",
    "                                        'Longitude',\n",
    "                                        'Latitude',\n",
    "                                        'Population',\n",
    "                                        \"GDP\",\n",
    "                                        \"Unemployment rate\",\n",
    "                                        \"Inflation\",\n",
    "                                        \"Exports of goods and services\",\n",
    "                                        \"Imports of goods and services\",\n",
    "                                        \"Investments\",\n",
    "                                        \"Public debt\",\n",
    "                                        \"Consumer price indices\",\n",
    "                                        \"Interest rates\"])\n",
    "        \n",
    "        for param in parameters:\n",
    "            data = fetch_indicator_data(country_info[\"Country ID\"], param[\"indicator\"])\n",
    "            country_name = country_info['Country Name']\n",
    "            country_id = country_info['Country ID']\n",
    "            country_region = country_info['Region']\n",
    "            country_income = country_info['Income Level']\n",
    "            country_lending = country_info['Lending Type']\n",
    "            country_long = country_info['Longitude']\n",
    "            country_lat = country_info['Latitude']\n",
    "            \n",
    "            df_local['Country'] = country_name\n",
    "            df_local['Country id'] = country_id\n",
    "            df_local['Region'] = country_region\n",
    "            df_local['Income level'] = country_income\n",
    "            df_local['Lending type'] = country_lending\n",
    "            df_local['Longitude'] = country_long\n",
    "            df_local['Latitude'] = country_lat\n",
    "            if param['indicator'] == \"SP.POP.TOTL\":\n",
    "                df_local['Year'] = list(data.keys())\n",
    "            df_local[param['parameter']] = list(data.values())\n",
    "\n",
    "    # Конкатим к общему датафрейму инфу по каждой стране отдельно (добавляем по вертикали)\n",
    "        df = pd.concat([df, df_local], axis=0)\n",
    "    \n",
    "    return df\n",
    "\n",
    "df = get_country_data()\n",
    "df.head()\n",
    "# Тут по сути закончилась самая сложная часть проекта, так как данные были беспорядочные и их было сложно воспринимать\n",
    "\n"
   ]
  },
  {
   "cell_type": "code",
   "execution_count": 65,
   "metadata": {},
   "outputs": [],
   "source": [
    "df.to_csv('Data for analysis')"
   ]
  },
  {
   "attachments": {},
   "cell_type": "markdown",
   "metadata": {},
   "source": [
    "EDA\n",
    "\n",
    "Для начала нужно провести EDA, посмотреть на данные после парсинга. "
   ]
  },
  {
   "cell_type": "code",
   "execution_count": 70,
   "metadata": {},
   "outputs": [],
   "source": [
    "import pandas as pd\n",
    "\n",
    "url = \"https://raw.githubusercontent.com/vladimirlavrentyev/python-project-Lavrentev-Vladimir/main/Data%20for%20analysis\" \n",
    "#Это было сделано для того, чтобы не выкладыватль токен в общий доступ, поэтому сохранил в csv и ссылаюсь уже на спаршеную дату\n",
    "df = pd.read_csv(url)"
   ]
  },
  {
   "cell_type": "code",
   "execution_count": 68,
   "metadata": {},
   "outputs": [
    {
     "name": "stdout",
     "output_type": "stream",
     "text": [
      "<class 'pandas.core.frame.DataFrame'>\n",
      "RangeIndex: 4900 entries, 0 to 4899\n",
      "Data columns (total 21 columns):\n",
      " #   Column                         Non-Null Count  Dtype  \n",
      "---  ------                         --------------  -----  \n",
      " 0   Unnamed: 0                     4900 non-null   int64  \n",
      " 1   Country                        4900 non-null   object \n",
      " 2   Country id                     4900 non-null   object \n",
      " 3   Year                           4900 non-null   int64  \n",
      " 4   Region                         4900 non-null   object \n",
      " 5   Income level                   4900 non-null   object \n",
      " 6   Lending type                   4900 non-null   object \n",
      " 7   Longitude                      4900 non-null   float64\n",
      " 8   Latitude                       4900 non-null   float64\n",
      " 9   Population                     4802 non-null   float64\n",
      " 10  GDP                            4356 non-null   float64\n",
      " 11  Unemployment rate              4900 non-null   float64\n",
      " 12  Inflation                      4160 non-null   float64\n",
      " 13  Exports of goods and services  4159 non-null   float64\n",
      " 14  Imports of goods and services  4159 non-null   float64\n",
      " 15  Investments                    4160 non-null   float64\n",
      " 16  Public debt                    1205 non-null   float64\n",
      " 17  Consumer price indices         4187 non-null   float64\n",
      " 18  Interest rates                 1998 non-null   float64\n",
      " 19  Unemployment                   3132 non-null   float64\n",
      " 20  Trade Balance                  4159 non-null   float64\n",
      "dtypes: float64(14), int64(2), object(5)\n",
      "memory usage: 804.0+ KB\n"
     ]
    }
   ],
   "source": [
    "df.info()"
   ]
  },
  {
   "attachments": {},
   "cell_type": "markdown",
   "metadata": {},
   "source": [
    "Видим, что не все колонки, которые должны быть float на самом деле имеют типа float, преобразуем их"
   ]
  },
  {
   "cell_type": "code",
   "execution_count": 3,
   "metadata": {},
   "outputs": [],
   "source": [
    "df['Year'] = df['Year'].astype(int)\n",
    "df['Longitude'] = df['Longitude'].astype(float)\n",
    "df['Latitude'] = df['Latitude'].astype(float)"
   ]
  },
  {
   "cell_type": "code",
   "execution_count": 4,
   "metadata": {},
   "outputs": [
    {
     "name": "stdout",
     "output_type": "stream",
     "text": [
      "<class 'pandas.core.frame.DataFrame'>\n",
      "Int64Index: 4900 entries, 0 to 49\n",
      "Data columns (total 19 columns):\n",
      " #   Column                         Non-Null Count  Dtype  \n",
      "---  ------                         --------------  -----  \n",
      " 0   Country                        4900 non-null   object \n",
      " 1   Country id                     4900 non-null   object \n",
      " 2   Year                           4900 non-null   int32  \n",
      " 3   Region                         4900 non-null   object \n",
      " 4   Income level                   4900 non-null   object \n",
      " 5   Lending type                   4900 non-null   object \n",
      " 6   Longitude                      4900 non-null   float64\n",
      " 7   Latitude                       4900 non-null   float64\n",
      " 8   Population                     4802 non-null   float64\n",
      " 9   GDP                            4356 non-null   float64\n",
      " 10  Unemployment rate              3132 non-null   float64\n",
      " 11  Inflation                      4160 non-null   float64\n",
      " 12  Exports of goods and services  4159 non-null   float64\n",
      " 13  Imports of goods and services  4159 non-null   float64\n",
      " 14  Investments                    4160 non-null   float64\n",
      " 15  Public debt                    1205 non-null   float64\n",
      " 16  Consumer price indices         4187 non-null   float64\n",
      " 17  Interest rates                 1998 non-null   float64\n",
      " 18  Unemployment                   3132 non-null   float64\n",
      "dtypes: float64(13), int32(1), object(5)\n",
      "memory usage: 746.5+ KB\n"
     ]
    }
   ],
   "source": [
    "df.info()"
   ]
  },
  {
   "cell_type": "code",
   "execution_count": 5,
   "metadata": {},
   "outputs": [
    {
     "data": {
      "text/plain": [
       "Country                             0\n",
       "Country id                          0\n",
       "Year                                0\n",
       "Region                              0\n",
       "Income level                        0\n",
       "Lending type                        0\n",
       "Longitude                           0\n",
       "Latitude                            0\n",
       "Population                         98\n",
       "GDP                               544\n",
       "Unemployment rate                1768\n",
       "Inflation                         740\n",
       "Exports of goods and services     741\n",
       "Imports of goods and services     741\n",
       "Investments                       740\n",
       "Public debt                      3695\n",
       "Consumer price indices            713\n",
       "Interest rates                   2902\n",
       "Unemployment                     1768\n",
       "dtype: int64"
      ]
     },
     "execution_count": 5,
     "metadata": {},
     "output_type": "execute_result"
    }
   ],
   "source": [
    "df.isnull().sum()"
   ]
  },
  {
   "cell_type": "code",
   "execution_count": 6,
   "metadata": {},
   "outputs": [
    {
     "data": {
      "text/plain": [
       "14450"
      ]
     },
     "execution_count": 6,
     "metadata": {},
     "output_type": "execute_result"
    }
   ],
   "source": [
    "df.isnull().sum().sum()"
   ]
  },
  {
   "attachments": {},
   "cell_type": "markdown",
   "metadata": {},
   "source": [
    "Видим, что за какие-то года просто не было данных для некоторых стран, не страшно"
   ]
  },
  {
   "attachments": {},
   "cell_type": "markdown",
   "metadata": {},
   "source": [
    "### Визулизация"
   ]
  },
  {
   "cell_type": "code",
   "execution_count": 7,
   "metadata": {},
   "outputs": [],
   "source": [
    "TOKEN = open('token.txt').read()"
   ]
  },
  {
   "cell_type": "code",
   "execution_count": 8,
   "metadata": {},
   "outputs": [],
   "source": [
    "import plotly.express as px\n",
    "px.set_mapbox_access_token(TOKEN)"
   ]
  },
  {
   "attachments": {},
   "cell_type": "markdown",
   "metadata": {},
   "source": [
    "Хитмапа, наложенная на карту. Размером обозначен ввп, цветов население по странам(координаты указаны для столиц стран из списка внутри функции выше)"
   ]
  },
  {
   "cell_type": "code",
   "execution_count": 19,
   "metadata": {},
   "outputs": [
    {
     "data": {
      "application/vnd.plotly.v1+json": {
       "config": {
        "plotlyServerURL": "https://plot.ly"
       },
       "data": [
        {
         "hovertemplate": "<b>%{hovertext}</b><br><br>GDP=%{marker.size}<br>Latitude=%{lat}<br>Longitude=%{lon}<br>Population=%{marker.color}<extra></extra>",
         "hovertext": [
          "Algeria",
          "Angola",
          "Argentina",
          "Australia",
          "Austria",
          "Azerbaijan",
          "Bangladesh",
          "Belarus",
          "Belgium",
          "Bolivia",
          "Brazil",
          "Bulgaria",
          "Canada",
          "Chile",
          "China",
          "Colombia",
          "Costa Rica",
          "Cote d'Ivoire",
          "Croatia",
          "Cuba",
          "Cyprus",
          "Czechia",
          "Denmark",
          "Dominican Republic",
          "Ecuador",
          "Egypt, Arab Rep.",
          "El Salvador",
          "Estonia",
          "Ethiopia",
          "Finland",
          "France",
          "Germany",
          "Ghana",
          "Greece",
          "Guatemala",
          "Honduras",
          "Hungary",
          "India",
          "Indonesia",
          "Iran, Islamic Rep.",
          "Iraq",
          "Ireland",
          "Israel",
          "Italy",
          "Japan",
          "Jordan",
          "Kazakhstan",
          "Kenya",
          "Korea, Rep.",
          "Kuwait",
          "Latvia",
          "Lebanon",
          "Libya",
          "Lithuania",
          "Luxembourg",
          "Malaysia",
          "Mexico",
          "Morocco",
          "Myanmar",
          "Netherlands",
          "New Zealand",
          "Nigeria",
          "Norway",
          "Oman",
          "Pakistan",
          "Panama",
          "Paraguay",
          "Peru",
          "Philippines",
          "Poland",
          "Portugal",
          "Puerto Rico",
          "Qatar",
          "Romania",
          "Russian Federation",
          "Saudi Arabia",
          "Serbia",
          "Singapore",
          "Slovak Republic",
          "Slovenia",
          "South Africa",
          "Spain",
          "Sri Lanka",
          "Sweden",
          "Switzerland",
          "Tanzania",
          "Thailand",
          "Trinidad and Tobago",
          "Tunisia",
          "Turkiye",
          "Turkmenistan",
          "Ukraine",
          "United Arab Emirates",
          "United Kingdom",
          "United States",
          "Uruguay",
          "Uzbekistan",
          "Vietnam"
         ],
         "lat": [
          36.7397,
          -8.81155,
          -34.6118,
          -35.282,
          48.2201,
          40.3834,
          23.7055,
          53.9678,
          50.8371,
          -13.9908,
          -15.7801,
          42.7105,
          45.4215,
          -33.475,
          40.0495,
          4.60987,
          9.63701,
          5.332,
          45.8069,
          23.1333,
          35.1676,
          50.0878,
          55.6763,
          18.479,
          -0.229498,
          30.0982,
          13.7034,
          59.4392,
          9.02274,
          60.1608,
          48.8566,
          52.5235,
          5.57045,
          37.9792,
          14.6248,
          15.1333,
          47.4984,
          28.6353,
          -6.19752,
          35.6878,
          33.3302,
          53.3441,
          31.7717,
          41.8955,
          35.67,
          31.9497,
          51.1879,
          -1.27975,
          37.5323,
          29.3721,
          56.9465,
          33.8872,
          32.8578,
          54.6896,
          49.61,
          3.12433,
          19.427,
          33.9905,
          21.914,
          52.3738,
          -41.2865,
          9.05804,
          59.9138,
          23.6105,
          30.5167,
          8.99427,
          -25.3005,
          -12.0931,
          14.5515,
          52.26,
          38.7072,
          18.23,
          25.2948,
          44.4479,
          55.7558,
          24.6748,
          44.8024,
          1.28941,
          48.1484,
          46.0546,
          -25.746,
          40.4167,
          6.92148,
          59.3327,
          46.948,
          -6.17486,
          13.7308,
          10.6596,
          36.7899,
          39.7153,
          37.9509,
          50.4536,
          24.4764,
          51.5002,
          38.8895,
          -34.8941,
          41.3052,
          21.0069
         ],
         "legendgroup": "",
         "lon": [
          3.05097,
          13.242,
          -58.4173,
          149.129,
          16.3798,
          49.8932,
          90.4113,
          27.5766,
          4.36761,
          -66.1936,
          -47.9292,
          23.3238,
          -75.6919,
          -70.6475,
          116.286,
          -74.082,
          -84.0089,
          -4.0305,
          15.9614,
          -82.3667,
          33.3736,
          14.4205,
          12.5681,
          -69.8908,
          -78.5243,
          31.2461,
          -89.2073,
          24.7586,
          38.7468,
          24.9525,
          2.35097,
          13.4115,
          -0.20795,
          23.7166,
          -90.5328,
          -87.4667,
          19.0408,
          77.225,
          106.83,
          51.4447,
          44.394,
          -6.26749,
          35.2035,
          12.4823,
          139.77,
          35.9263,
          71.4382,
          36.8126,
          126.957,
          47.9824,
          24.1048,
          35.5134,
          13.1072,
          25.2799,
          6.1296,
          101.684,
          -99.1276,
          -6.8704,
          95.9562,
          4.89095,
          174.776,
          7.48906,
          10.7387,
          58.5874,
          72.8,
          -79.5188,
          -57.6362,
          -77.0465,
          121.035,
          21.02,
          -9.13552,
          -66,
          51.5082,
          26.0979,
          37.6176,
          46.6977,
          20.4656,
          103.85,
          17.1073,
          14.5044,
          28.1871,
          -3.70327,
          79.8528,
          18.0645,
          7.44821,
          35.7382,
          100.521,
          -61.4789,
          10.21,
          32.3606,
          58.3794,
          30.5038,
          54.3705,
          -0.126236,
          -77.032,
          -56.0675,
          69.269,
          105.825
         ],
         "marker": {
          "color": [
           14786469,
           6578230,
           25020588,
           13380000,
           7586115,
           5493900,
           71144818,
           9257272,
           9741720,
           4902248,
           103666904,
           8620967,
           22491777,
           10307842,
           881940000,
           22396318,
           2006247,
           6257373,
           4470161,
           9297924,
           650705,
           9922266,
           5021861,
           4851183,
           6720443,
           37120776,
           3890639,
           1405951,
           30694316,
           4666081,
           53053660,
           78936666,
           9637197,
           8929086,
           5858466,
           3046715,
           10432055,
           596107483,
           124709058,
           30981898,
           10872139,
           3085950,
           3278000,
           54751406,
           108707000,
           1767414,
           12789985,
           12760405,
           34103149,
           970527,
           2415819,
           2569841,
           2084256,
           3244438,
           350450,
           11062664,
           55228203,
           16489452,
           29165356,
           13439322,
           2961300,
           59605446,
           3960612,
           728597,
           64285624,
           1646580,
           2583160,
           14674785,
           40406234,
           33357200,
           8633100,
           2878786,
           163734,
           20835681,
           132669000,
           7088758,
           7091000,
           2193000,
           4641445,
           1766697,
           24382513,
           34988947,
           13252033,
           8136312,
           6307347,
           15123504,
           38873060,
           1026563,
           5463650,
           38028236,
           2393323,
           48301548,
           441546,
           56194527,
           211909000,
           2836825,
           13107928,
           44891281
          ],
          "coloraxis": "coloraxis",
          "size": [
           8707847924.29022,
           5930503400.96263,
           52544000116.9037,
           63832158872.5176,
           29515467706.796,
           8858006035.91566,
           8086725729.3407,
           21650000000,
           47743801490.3747,
           1262968515.74213,
           83592275862.9982,
           19839230769.2308,
           131321858814.119,
           16836261173.1844,
           138544284708.957,
           10315760000.3394,
           1528916185.23199,
           2508421234.8557,
           22643720762.9666,
           9987709650.18094,
           489914760.682807,
           40728950704.6176,
           30730626663.3606,
           2344800000,
           3891755551.94138,
           10098534613.4411,
           1442320000,
           4502970889.06373,
           7324903188.4058,
           19472363466.6252,
           264429876252.21,
           398374021953.897,
           2465492957.74648,
           22347848101.2658,
           2569200100,
           912499950,
           34753569692.915,
           85515269585.4,
           16273253012.0482,
           27081698249.5083,
           5134367778.1446,
           7481173065.79201,
           104892955202.072,
           175492055795.417,
           432082670450.719,
           943700547.778454,
           26932729102.7371,
           2508998457.4073,
           13876531432.0145,
           5408293998.65138,
           5789128636.62293,
           3313540067.93246,
           28901836158.1921,
           7867140395.33705,
           2609875802.11136,
           7662996766.66803,
           55280000000,
           6242177798.33938,
           667038769.091964,
           71840909664.1968,
           12802281897.8712,
           15162871287.1287,
           22534253702.8686,
           483033932.135729,
           6383429490.21091,
           1913793400,
           995531746.031746,
           10994381894.832,
           11412421019.6409,
           65977749036.9844,
           15090564186.4268,
           7002400000,
           793884368.040437,
           38413636363.6364,
           554713455149.502,
           14947491056.4938,
           16832598870.0565,
           3696213333.33333,
           12747380650.0762,
           21352224019.4096,
           33262767310.8192,
           78639525985.1513,
           2875625000,
           59404966684.2214,
           122660905890.076,
           5100405772.46327,
           10838587357.7466,
           1308799458.96284,
           2730787476.28084,
           25633802816.9014,
           2336448598.13084,
           64087694038.2333,
           14720672506.5004,
           192537971582.558,
           1425376000000,
           3964295672.52444,
           13360607917.8773,
           14094687820.7445
          ],
          "sizemode": "area",
          "sizeref": 3563440000
         },
         "mode": "markers",
         "name": "",
         "showlegend": false,
         "subplot": "mapbox",
         "type": "scattermapbox"
        }
       ],
       "layout": {
        "coloraxis": {
         "colorbar": {
          "title": {
           "text": "Population"
          }
         },
         "colorscale": [
          [
           0,
           "#0d0887"
          ],
          [
           0.1111111111111111,
           "#46039f"
          ],
          [
           0.2222222222222222,
           "#7201a8"
          ],
          [
           0.3333333333333333,
           "#9c179e"
          ],
          [
           0.4444444444444444,
           "#bd3786"
          ],
          [
           0.5555555555555556,
           "#d8576b"
          ],
          [
           0.6666666666666666,
           "#ed7953"
          ],
          [
           0.7777777777777778,
           "#fb9f3a"
          ],
          [
           0.8888888888888888,
           "#fdca26"
          ],
          [
           1,
           "#f0f921"
          ]
         ]
        },
        "legend": {
         "itemsizing": "constant",
         "tracegroupgap": 0
        },
        "mapbox": {
         "accesstoken": "pk.eyJ1IjoiZnJ1aXRuaW5qYTciLCJhIjoiY2xpcXZmMzkzMDBwODNzcXlmZzI2cjg0dyJ9.iTFO4-qjimZQYvxSQC9nwQ",
         "center": {
          "lat": 26.173745122448977,
          "lon": 17.113845959183674
         },
         "domain": {
          "x": [
           0,
           1
          ],
          "y": [
           0,
           1
          ]
         },
         "zoom": 1
        },
        "margin": {
         "t": 60
        },
        "template": {
         "data": {
          "bar": [
           {
            "error_x": {
             "color": "#2a3f5f"
            },
            "error_y": {
             "color": "#2a3f5f"
            },
            "marker": {
             "line": {
              "color": "#E5ECF6",
              "width": 0.5
             },
             "pattern": {
              "fillmode": "overlay",
              "size": 10,
              "solidity": 0.2
             }
            },
            "type": "bar"
           }
          ],
          "barpolar": [
           {
            "marker": {
             "line": {
              "color": "#E5ECF6",
              "width": 0.5
             },
             "pattern": {
              "fillmode": "overlay",
              "size": 10,
              "solidity": 0.2
             }
            },
            "type": "barpolar"
           }
          ],
          "carpet": [
           {
            "aaxis": {
             "endlinecolor": "#2a3f5f",
             "gridcolor": "white",
             "linecolor": "white",
             "minorgridcolor": "white",
             "startlinecolor": "#2a3f5f"
            },
            "baxis": {
             "endlinecolor": "#2a3f5f",
             "gridcolor": "white",
             "linecolor": "white",
             "minorgridcolor": "white",
             "startlinecolor": "#2a3f5f"
            },
            "type": "carpet"
           }
          ],
          "choropleth": [
           {
            "colorbar": {
             "outlinewidth": 0,
             "ticks": ""
            },
            "type": "choropleth"
           }
          ],
          "contour": [
           {
            "colorbar": {
             "outlinewidth": 0,
             "ticks": ""
            },
            "colorscale": [
             [
              0,
              "#0d0887"
             ],
             [
              0.1111111111111111,
              "#46039f"
             ],
             [
              0.2222222222222222,
              "#7201a8"
             ],
             [
              0.3333333333333333,
              "#9c179e"
             ],
             [
              0.4444444444444444,
              "#bd3786"
             ],
             [
              0.5555555555555556,
              "#d8576b"
             ],
             [
              0.6666666666666666,
              "#ed7953"
             ],
             [
              0.7777777777777778,
              "#fb9f3a"
             ],
             [
              0.8888888888888888,
              "#fdca26"
             ],
             [
              1,
              "#f0f921"
             ]
            ],
            "type": "contour"
           }
          ],
          "contourcarpet": [
           {
            "colorbar": {
             "outlinewidth": 0,
             "ticks": ""
            },
            "type": "contourcarpet"
           }
          ],
          "heatmap": [
           {
            "colorbar": {
             "outlinewidth": 0,
             "ticks": ""
            },
            "colorscale": [
             [
              0,
              "#0d0887"
             ],
             [
              0.1111111111111111,
              "#46039f"
             ],
             [
              0.2222222222222222,
              "#7201a8"
             ],
             [
              0.3333333333333333,
              "#9c179e"
             ],
             [
              0.4444444444444444,
              "#bd3786"
             ],
             [
              0.5555555555555556,
              "#d8576b"
             ],
             [
              0.6666666666666666,
              "#ed7953"
             ],
             [
              0.7777777777777778,
              "#fb9f3a"
             ],
             [
              0.8888888888888888,
              "#fdca26"
             ],
             [
              1,
              "#f0f921"
             ]
            ],
            "type": "heatmap"
           }
          ],
          "heatmapgl": [
           {
            "colorbar": {
             "outlinewidth": 0,
             "ticks": ""
            },
            "colorscale": [
             [
              0,
              "#0d0887"
             ],
             [
              0.1111111111111111,
              "#46039f"
             ],
             [
              0.2222222222222222,
              "#7201a8"
             ],
             [
              0.3333333333333333,
              "#9c179e"
             ],
             [
              0.4444444444444444,
              "#bd3786"
             ],
             [
              0.5555555555555556,
              "#d8576b"
             ],
             [
              0.6666666666666666,
              "#ed7953"
             ],
             [
              0.7777777777777778,
              "#fb9f3a"
             ],
             [
              0.8888888888888888,
              "#fdca26"
             ],
             [
              1,
              "#f0f921"
             ]
            ],
            "type": "heatmapgl"
           }
          ],
          "histogram": [
           {
            "marker": {
             "pattern": {
              "fillmode": "overlay",
              "size": 10,
              "solidity": 0.2
             }
            },
            "type": "histogram"
           }
          ],
          "histogram2d": [
           {
            "colorbar": {
             "outlinewidth": 0,
             "ticks": ""
            },
            "colorscale": [
             [
              0,
              "#0d0887"
             ],
             [
              0.1111111111111111,
              "#46039f"
             ],
             [
              0.2222222222222222,
              "#7201a8"
             ],
             [
              0.3333333333333333,
              "#9c179e"
             ],
             [
              0.4444444444444444,
              "#bd3786"
             ],
             [
              0.5555555555555556,
              "#d8576b"
             ],
             [
              0.6666666666666666,
              "#ed7953"
             ],
             [
              0.7777777777777778,
              "#fb9f3a"
             ],
             [
              0.8888888888888888,
              "#fdca26"
             ],
             [
              1,
              "#f0f921"
             ]
            ],
            "type": "histogram2d"
           }
          ],
          "histogram2dcontour": [
           {
            "colorbar": {
             "outlinewidth": 0,
             "ticks": ""
            },
            "colorscale": [
             [
              0,
              "#0d0887"
             ],
             [
              0.1111111111111111,
              "#46039f"
             ],
             [
              0.2222222222222222,
              "#7201a8"
             ],
             [
              0.3333333333333333,
              "#9c179e"
             ],
             [
              0.4444444444444444,
              "#bd3786"
             ],
             [
              0.5555555555555556,
              "#d8576b"
             ],
             [
              0.6666666666666666,
              "#ed7953"
             ],
             [
              0.7777777777777778,
              "#fb9f3a"
             ],
             [
              0.8888888888888888,
              "#fdca26"
             ],
             [
              1,
              "#f0f921"
             ]
            ],
            "type": "histogram2dcontour"
           }
          ],
          "mesh3d": [
           {
            "colorbar": {
             "outlinewidth": 0,
             "ticks": ""
            },
            "type": "mesh3d"
           }
          ],
          "parcoords": [
           {
            "line": {
             "colorbar": {
              "outlinewidth": 0,
              "ticks": ""
             }
            },
            "type": "parcoords"
           }
          ],
          "pie": [
           {
            "automargin": true,
            "type": "pie"
           }
          ],
          "scatter": [
           {
            "fillpattern": {
             "fillmode": "overlay",
             "size": 10,
             "solidity": 0.2
            },
            "type": "scatter"
           }
          ],
          "scatter3d": [
           {
            "line": {
             "colorbar": {
              "outlinewidth": 0,
              "ticks": ""
             }
            },
            "marker": {
             "colorbar": {
              "outlinewidth": 0,
              "ticks": ""
             }
            },
            "type": "scatter3d"
           }
          ],
          "scattercarpet": [
           {
            "marker": {
             "colorbar": {
              "outlinewidth": 0,
              "ticks": ""
             }
            },
            "type": "scattercarpet"
           }
          ],
          "scattergeo": [
           {
            "marker": {
             "colorbar": {
              "outlinewidth": 0,
              "ticks": ""
             }
            },
            "type": "scattergeo"
           }
          ],
          "scattergl": [
           {
            "marker": {
             "colorbar": {
              "outlinewidth": 0,
              "ticks": ""
             }
            },
            "type": "scattergl"
           }
          ],
          "scattermapbox": [
           {
            "marker": {
             "colorbar": {
              "outlinewidth": 0,
              "ticks": ""
             }
            },
            "type": "scattermapbox"
           }
          ],
          "scatterpolar": [
           {
            "marker": {
             "colorbar": {
              "outlinewidth": 0,
              "ticks": ""
             }
            },
            "type": "scatterpolar"
           }
          ],
          "scatterpolargl": [
           {
            "marker": {
             "colorbar": {
              "outlinewidth": 0,
              "ticks": ""
             }
            },
            "type": "scatterpolargl"
           }
          ],
          "scatterternary": [
           {
            "marker": {
             "colorbar": {
              "outlinewidth": 0,
              "ticks": ""
             }
            },
            "type": "scatterternary"
           }
          ],
          "surface": [
           {
            "colorbar": {
             "outlinewidth": 0,
             "ticks": ""
            },
            "colorscale": [
             [
              0,
              "#0d0887"
             ],
             [
              0.1111111111111111,
              "#46039f"
             ],
             [
              0.2222222222222222,
              "#7201a8"
             ],
             [
              0.3333333333333333,
              "#9c179e"
             ],
             [
              0.4444444444444444,
              "#bd3786"
             ],
             [
              0.5555555555555556,
              "#d8576b"
             ],
             [
              0.6666666666666666,
              "#ed7953"
             ],
             [
              0.7777777777777778,
              "#fb9f3a"
             ],
             [
              0.8888888888888888,
              "#fdca26"
             ],
             [
              1,
              "#f0f921"
             ]
            ],
            "type": "surface"
           }
          ],
          "table": [
           {
            "cells": {
             "fill": {
              "color": "#EBF0F8"
             },
             "line": {
              "color": "white"
             }
            },
            "header": {
             "fill": {
              "color": "#C8D4E3"
             },
             "line": {
              "color": "white"
             }
            },
            "type": "table"
           }
          ]
         },
         "layout": {
          "annotationdefaults": {
           "arrowcolor": "#2a3f5f",
           "arrowhead": 0,
           "arrowwidth": 1
          },
          "autotypenumbers": "strict",
          "coloraxis": {
           "colorbar": {
            "outlinewidth": 0,
            "ticks": ""
           }
          },
          "colorscale": {
           "diverging": [
            [
             0,
             "#8e0152"
            ],
            [
             0.1,
             "#c51b7d"
            ],
            [
             0.2,
             "#de77ae"
            ],
            [
             0.3,
             "#f1b6da"
            ],
            [
             0.4,
             "#fde0ef"
            ],
            [
             0.5,
             "#f7f7f7"
            ],
            [
             0.6,
             "#e6f5d0"
            ],
            [
             0.7,
             "#b8e186"
            ],
            [
             0.8,
             "#7fbc41"
            ],
            [
             0.9,
             "#4d9221"
            ],
            [
             1,
             "#276419"
            ]
           ],
           "sequential": [
            [
             0,
             "#0d0887"
            ],
            [
             0.1111111111111111,
             "#46039f"
            ],
            [
             0.2222222222222222,
             "#7201a8"
            ],
            [
             0.3333333333333333,
             "#9c179e"
            ],
            [
             0.4444444444444444,
             "#bd3786"
            ],
            [
             0.5555555555555556,
             "#d8576b"
            ],
            [
             0.6666666666666666,
             "#ed7953"
            ],
            [
             0.7777777777777778,
             "#fb9f3a"
            ],
            [
             0.8888888888888888,
             "#fdca26"
            ],
            [
             1,
             "#f0f921"
            ]
           ],
           "sequentialminus": [
            [
             0,
             "#0d0887"
            ],
            [
             0.1111111111111111,
             "#46039f"
            ],
            [
             0.2222222222222222,
             "#7201a8"
            ],
            [
             0.3333333333333333,
             "#9c179e"
            ],
            [
             0.4444444444444444,
             "#bd3786"
            ],
            [
             0.5555555555555556,
             "#d8576b"
            ],
            [
             0.6666666666666666,
             "#ed7953"
            ],
            [
             0.7777777777777778,
             "#fb9f3a"
            ],
            [
             0.8888888888888888,
             "#fdca26"
            ],
            [
             1,
             "#f0f921"
            ]
           ]
          },
          "colorway": [
           "#636efa",
           "#EF553B",
           "#00cc96",
           "#ab63fa",
           "#FFA15A",
           "#19d3f3",
           "#FF6692",
           "#B6E880",
           "#FF97FF",
           "#FECB52"
          ],
          "font": {
           "color": "#2a3f5f"
          },
          "geo": {
           "bgcolor": "white",
           "lakecolor": "white",
           "landcolor": "#E5ECF6",
           "showlakes": true,
           "showland": true,
           "subunitcolor": "white"
          },
          "hoverlabel": {
           "align": "left"
          },
          "hovermode": "closest",
          "mapbox": {
           "style": "light"
          },
          "paper_bgcolor": "white",
          "plot_bgcolor": "#E5ECF6",
          "polar": {
           "angularaxis": {
            "gridcolor": "white",
            "linecolor": "white",
            "ticks": ""
           },
           "bgcolor": "#E5ECF6",
           "radialaxis": {
            "gridcolor": "white",
            "linecolor": "white",
            "ticks": ""
           }
          },
          "scene": {
           "xaxis": {
            "backgroundcolor": "#E5ECF6",
            "gridcolor": "white",
            "gridwidth": 2,
            "linecolor": "white",
            "showbackground": true,
            "ticks": "",
            "zerolinecolor": "white"
           },
           "yaxis": {
            "backgroundcolor": "#E5ECF6",
            "gridcolor": "white",
            "gridwidth": 2,
            "linecolor": "white",
            "showbackground": true,
            "ticks": "",
            "zerolinecolor": "white"
           },
           "zaxis": {
            "backgroundcolor": "#E5ECF6",
            "gridcolor": "white",
            "gridwidth": 2,
            "linecolor": "white",
            "showbackground": true,
            "ticks": "",
            "zerolinecolor": "white"
           }
          },
          "shapedefaults": {
           "line": {
            "color": "#2a3f5f"
           }
          },
          "ternary": {
           "aaxis": {
            "gridcolor": "white",
            "linecolor": "white",
            "ticks": ""
           },
           "baxis": {
            "gridcolor": "white",
            "linecolor": "white",
            "ticks": ""
           },
           "bgcolor": "#E5ECF6",
           "caxis": {
            "gridcolor": "white",
            "linecolor": "white",
            "ticks": ""
           }
          },
          "title": {
           "x": 0.05
          },
          "xaxis": {
           "automargin": true,
           "gridcolor": "white",
           "linecolor": "white",
           "ticks": "",
           "title": {
            "standoff": 15
           },
           "zerolinecolor": "white",
           "zerolinewidth": 2
          },
          "yaxis": {
           "automargin": true,
           "gridcolor": "white",
           "linecolor": "white",
           "ticks": "",
           "title": {
            "standoff": 15
           },
           "zerolinecolor": "white",
           "zerolinewidth": 2
          }
         }
        }
       }
      }
     },
     "metadata": {},
     "output_type": "display_data"
    }
   ],
   "source": [
    "fig = px.scatter_mapbox(df.groupby(by = ['Country'])[['Longitude', 'Latitude', 'GDP', 'Population']].last().astype(float).reset_index(),\n",
    "                                 lat = 'Latitude', lon = 'Longitude', color = 'Population', size = 'GDP', hover_name = 'Country', zoom = 1)\n",
    "fig.show()"
   ]
  },
  {
   "attachments": {},
   "cell_type": "markdown",
   "metadata": {},
   "source": [
    "Добавим информацию об уровне дохода и уровне безработцы"
   ]
  },
  {
   "cell_type": "code",
   "execution_count": 18,
   "metadata": {},
   "outputs": [
    {
     "data": {
      "application/vnd.plotly.v1+json": {
       "config": {
        "plotlyServerURL": "https://plot.ly"
       },
       "data": [
        {
         "customdata": [
          [
           8707847924.29022,
           14786469,
           "Lower middle income",
           20.6
          ],
          [
           5930503400.96263,
           6578230,
           "Lower middle income",
           4.489
          ],
          [
           52544000116.9037,
           25020588,
           "Upper middle income",
           5.44
          ],
          [
           63832158872.5176,
           13380000,
           "High income",
           9.58
          ],
          [
           29515467706.796,
           7586115,
           "High income",
           3.42
          ],
          [
           8858006035.91566,
           5493900,
           "Upper middle income",
           0.9
          ],
          [
           8086725729.3407,
           71144818,
           "Lower middle income",
           2.2
          ],
          [
           21650000000,
           9257272,
           "Upper middle income",
           0.6
          ],
          [
           47743801490.3747,
           9741720,
           "High income",
           6.98
          ],
          [
           1262968515.74213,
           4902248,
           "Lower middle income",
           2.98
          ],
          [
           83592275862.9982,
           103666904,
           "Upper middle income",
           6.366
          ],
          [
           19839230769.2308,
           8620967,
           "Upper middle income",
           11.1
          ],
          [
           131321858814.119,
           22491777,
           "High income",
           10.32
          ],
          [
           16836261173.1844,
           10307842,
           "High income",
           5.23
          ],
          [
           138544284708.957,
           881940000,
           "Upper middle income",
           2.37
          ],
          [
           10315760000.3394,
           22396318,
           "Upper middle income",
           10.12
          ],
          [
           1528916185.23199,
           2006247,
           "Upper middle income",
           5.37
          ],
          [
           2508421234.8557,
           6257373,
           "Lower middle income",
           6.608
          ],
          [
           22643720762.9666,
           4470161,
           "High income",
           11.14
          ],
          [
           9987709650.18094,
           9297924,
           "Upper middle income",
           7.904
          ],
          [
           489914760.682807,
           650705,
           "High income",
           3
          ],
          [
           40728950704.6176,
           9922266,
           "High income",
           2.27
          ],
          [
           30730626663.3606,
           5021861,
           "High income",
           9.1
          ],
          [
           2344800000,
           4851183,
           "Upper middle income",
           6.431
          ],
          [
           3891755551.94138,
           6720443,
           "Upper middle income",
           4.439
          ],
          [
           10098534613.4411,
           37120776,
           "Lower middle income",
           9.38
          ],
          [
           1442320000,
           3890639,
           "Lower middle income",
           7.53
          ],
          [
           4502970889.06373,
           1405951,
           "High income",
           1.47
          ],
          [
           7324903188.4058,
           30694316,
           "Low income",
           3.132
          ],
          [
           19472363466.6252,
           4666081,
           "High income",
           6.5
          ],
          [
           264429876252.21,
           53053660,
           "High income",
           9.13
          ],
          [
           398374021953.897,
           78936666,
           "High income",
           5.32
          ],
          [
           2465492957.74648,
           9637197,
           "Lower middle income",
           3.49
          ],
          [
           22347848101.2658,
           8929086,
           "High income",
           7.65
          ],
          [
           2569200100,
           5858466,
           "Upper middle income",
           2.656
          ],
          [
           912499950,
           3046715,
           "Lower middle income",
           4.58
          ],
          [
           34753569692.915,
           10432055,
           "High income",
           8.5
          ],
          [
           85515269585.4,
           596107483,
           "Lower middle income",
           6.737
          ],
          [
           16273253012.0482,
           124709058,
           "Lower middle income",
           2.62
          ],
          [
           27081698249.5083,
           30981898,
           "Lower middle income",
           11.1
          ],
          [
           5134367778.1446,
           10872139,
           "Upper middle income",
           9.223
          ],
          [
           7481173065.79201,
           3085950,
           "High income",
           15.77
          ],
          [
           104892955202.072,
           3278000,
           "High income",
           13.39
          ],
          [
           175492055795.417,
           54751406,
           "High income",
           10.1
          ],
          [
           432082670450.719,
           108707000,
           "High income",
           2.1
          ],
          [
           943700547.778454,
           1767414,
           "Upper middle income",
           19.582
          ],
          [
           26932729102.7371,
           12789985,
           "Upper middle income",
           0.9
          ],
          [
           2508998457.4073,
           12760405,
           "Lower middle income",
           3.276
          ],
          [
           13876531432.0145,
           34103149,
           "High income",
           2.41
          ],
          [
           5408293998.65138,
           970527,
           "High income",
           0.891
          ],
          [
           5789128636.62293,
           2415819,
           "High income",
           2.7
          ],
          [
           3313540067.93246,
           2569841,
           "Lower middle income",
           8.409
          ],
          [
           28901836158.1921,
           2084256,
           "Upper middle income",
           20.118
          ],
          [
           7867140395.33705,
           3244438,
           "High income",
           1.1
          ],
          [
           2609875802.11136,
           350450,
           "High income",
           1.48
          ],
          [
           7662996766.66803,
           11062664,
           "Upper middle income",
           3.66
          ],
          [
           55280000000,
           55228203,
           "Upper middle income",
           3.15
          ],
          [
           6242177798.33938,
           16489452,
           "Lower middle income",
           12.723
          ],
          [
           667038769.091964,
           29165356,
           "Lower middle income",
           0.732
          ],
          [
           71840909664.1968,
           13439322,
           "High income",
           7.28
          ],
          [
           12802281897.8712,
           2961300,
           "High income",
           10.61
          ],
          [
           15162871287.1287,
           59605446,
           "Lower middle income",
           3.978
          ],
          [
           22534253702.8686,
           3960612,
           "High income",
           5.41
          ],
          [
           483033932.135729,
           728597,
           "High income",
           3.954
          ],
          [
           6383429490.21091,
           64285624,
           "Lower middle income",
           0.669
          ],
          [
           1913793400,
           1646580,
           "High income",
           6.064
          ],
          [
           995531746.031746,
           2583160,
           "Upper middle income",
           5.1
          ],
          [
           10994381894.832,
           14674785,
           "Upper middle income",
           4.652
          ],
          [
           11412421019.6409,
           40406234,
           "Lower middle income",
           3.834
          ],
          [
           65977749036.9844,
           33357200,
           "High income",
           12.963
          ],
          [
           15090564186.4268,
           8633100,
           "High income",
           3.92
          ],
          [
           7002400000,
           2878786,
           "High income",
           16.18
          ],
          [
           793884368.040437,
           163734,
           "High income",
           0.807
          ],
          [
           38413636363.6364,
           20835681,
           "High income",
           8.076
          ],
          [
           554713455149.502,
           132669000,
           "Upper middle income",
           5.414
          ],
          [
           14947491056.4938,
           7088758,
           "High income",
           7.07
          ],
          [
           16832598870.0565,
           7091000,
           "Upper middle income",
           13.373
          ],
          [
           3696213333.33333,
           2193000,
           "High income",
           2.18
          ],
          [
           12747380650.0762,
           4641445,
           "High income",
           11.576
          ],
          [
           21352224019.4096,
           1766697,
           "High income",
           7.08
          ],
          [
           33262767310.8192,
           24382513,
           "Upper middle income",
           21.194
          ],
          [
           78639525985.1513,
           34988947,
           "High income",
           15.93
          ],
          [
           2875625000,
           13252033,
           "Lower middle income",
           14.66
          ],
          [
           59404966684.2214,
           8136312,
           "High income",
           3.24
          ],
          [
           122660905890.076,
           6307347,
           "High income",
           1.82
          ],
          [
           5100405772.46327,
           15123504,
           "Lower middle income",
           3.6
          ],
          [
           10838587357.7466,
           38873060,
           "Upper middle income",
           2.63
          ],
          [
           1308799458.96284,
           1026563,
           "High income",
           18.52
          ],
          [
           2730787476.28084,
           5463650,
           "Lower middle income",
           15.767
          ],
          [
           25633802816.9014,
           38028236,
           "Upper middle income",
           8.21
          ],
          [
           2336448598.13084,
           2393323,
           "Upper middle income",
           1.4
          ],
          [
           64087694038.2333,
           48301548,
           "Lower middle income",
           1.9
          ],
          [
           14720672506.5004,
           441546,
           "High income",
           1.887
          ],
          [
           192537971582.558,
           56194527,
           "High income",
           8.55
          ],
          [
           1425376000000,
           211909000,
           "High income",
           6.8
          ],
          [
           3964295672.52444,
           2836825,
           "High income",
           8.95
          ],
          [
           13360607917.8773,
           13107928,
           "Lower middle income",
           1.9
          ],
          [
           14094687820.7445,
           44891281,
           "Lower middle income",
           2.124
          ]
         ],
         "hovertemplate": "<b>%{hovertext}</b><br><br>GDP: %{customdata[0]:,}<br>Population: %{customdata[1]:,}<br>Income Level: %{customdata[2]}<br>Unemployment Rate: %{customdata[3]}",
         "hovertext": [
          "Algeria",
          "Angola",
          "Argentina",
          "Australia",
          "Austria",
          "Azerbaijan",
          "Bangladesh",
          "Belarus",
          "Belgium",
          "Bolivia",
          "Brazil",
          "Bulgaria",
          "Canada",
          "Chile",
          "China",
          "Colombia",
          "Costa Rica",
          "Cote d'Ivoire",
          "Croatia",
          "Cuba",
          "Cyprus",
          "Czechia",
          "Denmark",
          "Dominican Republic",
          "Ecuador",
          "Egypt, Arab Rep.",
          "El Salvador",
          "Estonia",
          "Ethiopia",
          "Finland",
          "France",
          "Germany",
          "Ghana",
          "Greece",
          "Guatemala",
          "Honduras",
          "Hungary",
          "India",
          "Indonesia",
          "Iran, Islamic Rep.",
          "Iraq",
          "Ireland",
          "Israel",
          "Italy",
          "Japan",
          "Jordan",
          "Kazakhstan",
          "Kenya",
          "Korea, Rep.",
          "Kuwait",
          "Latvia",
          "Lebanon",
          "Libya",
          "Lithuania",
          "Luxembourg",
          "Malaysia",
          "Mexico",
          "Morocco",
          "Myanmar",
          "Netherlands",
          "New Zealand",
          "Nigeria",
          "Norway",
          "Oman",
          "Pakistan",
          "Panama",
          "Paraguay",
          "Peru",
          "Philippines",
          "Poland",
          "Portugal",
          "Puerto Rico",
          "Qatar",
          "Romania",
          "Russian Federation",
          "Saudi Arabia",
          "Serbia",
          "Singapore",
          "Slovak Republic",
          "Slovenia",
          "South Africa",
          "Spain",
          "Sri Lanka",
          "Sweden",
          "Switzerland",
          "Tanzania",
          "Thailand",
          "Trinidad and Tobago",
          "Tunisia",
          "Turkiye",
          "Turkmenistan",
          "Ukraine",
          "United Arab Emirates",
          "United Kingdom",
          "United States",
          "Uruguay",
          "Uzbekistan",
          "Vietnam"
         ],
         "lat": [
          36.7397,
          -8.81155,
          -34.6118,
          -35.282,
          48.2201,
          40.3834,
          23.7055,
          53.9678,
          50.8371,
          -13.9908,
          -15.7801,
          42.7105,
          45.4215,
          -33.475,
          40.0495,
          4.60987,
          9.63701,
          5.332,
          45.8069,
          23.1333,
          35.1676,
          50.0878,
          55.6763,
          18.479,
          -0.229498,
          30.0982,
          13.7034,
          59.4392,
          9.02274,
          60.1608,
          48.8566,
          52.5235,
          5.57045,
          37.9792,
          14.6248,
          15.1333,
          47.4984,
          28.6353,
          -6.19752,
          35.6878,
          33.3302,
          53.3441,
          31.7717,
          41.8955,
          35.67,
          31.9497,
          51.1879,
          -1.27975,
          37.5323,
          29.3721,
          56.9465,
          33.8872,
          32.8578,
          54.6896,
          49.61,
          3.12433,
          19.427,
          33.9905,
          21.914,
          52.3738,
          -41.2865,
          9.05804,
          59.9138,
          23.6105,
          30.5167,
          8.99427,
          -25.3005,
          -12.0931,
          14.5515,
          52.26,
          38.7072,
          18.23,
          25.2948,
          44.4479,
          55.7558,
          24.6748,
          44.8024,
          1.28941,
          48.1484,
          46.0546,
          -25.746,
          40.4167,
          6.92148,
          59.3327,
          46.948,
          -6.17486,
          13.7308,
          10.6596,
          36.7899,
          39.7153,
          37.9509,
          50.4536,
          24.4764,
          51.5002,
          38.8895,
          -34.8941,
          41.3052,
          21.0069
         ],
         "legendgroup": "",
         "lon": [
          3.05097,
          13.242,
          -58.4173,
          149.129,
          16.3798,
          49.8932,
          90.4113,
          27.5766,
          4.36761,
          -66.1936,
          -47.9292,
          23.3238,
          -75.6919,
          -70.6475,
          116.286,
          -74.082,
          -84.0089,
          -4.0305,
          15.9614,
          -82.3667,
          33.3736,
          14.4205,
          12.5681,
          -69.8908,
          -78.5243,
          31.2461,
          -89.2073,
          24.7586,
          38.7468,
          24.9525,
          2.35097,
          13.4115,
          -0.20795,
          23.7166,
          -90.5328,
          -87.4667,
          19.0408,
          77.225,
          106.83,
          51.4447,
          44.394,
          -6.26749,
          35.2035,
          12.4823,
          139.77,
          35.9263,
          71.4382,
          36.8126,
          126.957,
          47.9824,
          24.1048,
          35.5134,
          13.1072,
          25.2799,
          6.1296,
          101.684,
          -99.1276,
          -6.8704,
          95.9562,
          4.89095,
          174.776,
          7.48906,
          10.7387,
          58.5874,
          72.8,
          -79.5188,
          -57.6362,
          -77.0465,
          121.035,
          21.02,
          -9.13552,
          -66,
          51.5082,
          26.0979,
          37.6176,
          46.6977,
          20.4656,
          103.85,
          17.1073,
          14.5044,
          28.1871,
          -3.70327,
          79.8528,
          18.0645,
          7.44821,
          35.7382,
          100.521,
          -61.4789,
          10.21,
          32.3606,
          58.3794,
          30.5038,
          54.3705,
          -0.126236,
          -77.032,
          -56.0675,
          69.269,
          105.825
         ],
         "marker": {
          "color": [
           14786469,
           6578230,
           25020588,
           13380000,
           7586115,
           5493900,
           71144818,
           9257272,
           9741720,
           4902248,
           103666904,
           8620967,
           22491777,
           10307842,
           881940000,
           22396318,
           2006247,
           6257373,
           4470161,
           9297924,
           650705,
           9922266,
           5021861,
           4851183,
           6720443,
           37120776,
           3890639,
           1405951,
           30694316,
           4666081,
           53053660,
           78936666,
           9637197,
           8929086,
           5858466,
           3046715,
           10432055,
           596107483,
           124709058,
           30981898,
           10872139,
           3085950,
           3278000,
           54751406,
           108707000,
           1767414,
           12789985,
           12760405,
           34103149,
           970527,
           2415819,
           2569841,
           2084256,
           3244438,
           350450,
           11062664,
           55228203,
           16489452,
           29165356,
           13439322,
           2961300,
           59605446,
           3960612,
           728597,
           64285624,
           1646580,
           2583160,
           14674785,
           40406234,
           33357200,
           8633100,
           2878786,
           163734,
           20835681,
           132669000,
           7088758,
           7091000,
           2193000,
           4641445,
           1766697,
           24382513,
           34988947,
           13252033,
           8136312,
           6307347,
           15123504,
           38873060,
           1026563,
           5463650,
           38028236,
           2393323,
           48301548,
           441546,
           56194527,
           211909000,
           2836825,
           13107928,
           44891281
          ],
          "coloraxis": "coloraxis",
          "size": [
           8707847924.29022,
           5930503400.96263,
           52544000116.9037,
           63832158872.5176,
           29515467706.796,
           8858006035.91566,
           8086725729.3407,
           21650000000,
           47743801490.3747,
           1262968515.74213,
           83592275862.9982,
           19839230769.2308,
           131321858814.119,
           16836261173.1844,
           138544284708.957,
           10315760000.3394,
           1528916185.23199,
           2508421234.8557,
           22643720762.9666,
           9987709650.18094,
           489914760.682807,
           40728950704.6176,
           30730626663.3606,
           2344800000,
           3891755551.94138,
           10098534613.4411,
           1442320000,
           4502970889.06373,
           7324903188.4058,
           19472363466.6252,
           264429876252.21,
           398374021953.897,
           2465492957.74648,
           22347848101.2658,
           2569200100,
           912499950,
           34753569692.915,
           85515269585.4,
           16273253012.0482,
           27081698249.5083,
           5134367778.1446,
           7481173065.79201,
           104892955202.072,
           175492055795.417,
           432082670450.719,
           943700547.778454,
           26932729102.7371,
           2508998457.4073,
           13876531432.0145,
           5408293998.65138,
           5789128636.62293,
           3313540067.93246,
           28901836158.1921,
           7867140395.33705,
           2609875802.11136,
           7662996766.66803,
           55280000000,
           6242177798.33938,
           667038769.091964,
           71840909664.1968,
           12802281897.8712,
           15162871287.1287,
           22534253702.8686,
           483033932.135729,
           6383429490.21091,
           1913793400,
           995531746.031746,
           10994381894.832,
           11412421019.6409,
           65977749036.9844,
           15090564186.4268,
           7002400000,
           793884368.040437,
           38413636363.6364,
           554713455149.502,
           14947491056.4938,
           16832598870.0565,
           3696213333.33333,
           12747380650.0762,
           21352224019.4096,
           33262767310.8192,
           78639525985.1513,
           2875625000,
           59404966684.2214,
           122660905890.076,
           5100405772.46327,
           10838587357.7466,
           1308799458.96284,
           2730787476.28084,
           25633802816.9014,
           2336448598.13084,
           64087694038.2333,
           14720672506.5004,
           192537971582.558,
           1425376000000,
           3964295672.52444,
           13360607917.8773,
           14094687820.7445
          ],
          "sizemode": "area",
          "sizeref": 3563440000
         },
         "mode": "markers",
         "name": "",
         "showlegend": false,
         "subplot": "mapbox",
         "type": "scattermapbox"
        }
       ],
       "layout": {
        "coloraxis": {
         "colorbar": {
          "title": {
           "text": "Population"
          }
         },
         "colorscale": [
          [
           0,
           "#0d0887"
          ],
          [
           0.1111111111111111,
           "#46039f"
          ],
          [
           0.2222222222222222,
           "#7201a8"
          ],
          [
           0.3333333333333333,
           "#9c179e"
          ],
          [
           0.4444444444444444,
           "#bd3786"
          ],
          [
           0.5555555555555556,
           "#d8576b"
          ],
          [
           0.6666666666666666,
           "#ed7953"
          ],
          [
           0.7777777777777778,
           "#fb9f3a"
          ],
          [
           0.8888888888888888,
           "#fdca26"
          ],
          [
           1,
           "#f0f921"
          ]
         ]
        },
        "legend": {
         "itemsizing": "constant",
         "tracegroupgap": 0
        },
        "mapbox": {
         "accesstoken": "pk.eyJ1IjoiZnJ1aXRuaW5qYTciLCJhIjoiY2xpcXZmMzkzMDBwODNzcXlmZzI2cjg0dyJ9.iTFO4-qjimZQYvxSQC9nwQ",
         "center": {
          "lat": 26.173745122448977,
          "lon": 17.113845959183674
         },
         "domain": {
          "x": [
           0,
           1
          ],
          "y": [
           0,
           1
          ]
         },
         "zoom": 1
        },
        "margin": {
         "t": 60
        },
        "template": {
         "data": {
          "bar": [
           {
            "error_x": {
             "color": "#2a3f5f"
            },
            "error_y": {
             "color": "#2a3f5f"
            },
            "marker": {
             "line": {
              "color": "#E5ECF6",
              "width": 0.5
             },
             "pattern": {
              "fillmode": "overlay",
              "size": 10,
              "solidity": 0.2
             }
            },
            "type": "bar"
           }
          ],
          "barpolar": [
           {
            "marker": {
             "line": {
              "color": "#E5ECF6",
              "width": 0.5
             },
             "pattern": {
              "fillmode": "overlay",
              "size": 10,
              "solidity": 0.2
             }
            },
            "type": "barpolar"
           }
          ],
          "carpet": [
           {
            "aaxis": {
             "endlinecolor": "#2a3f5f",
             "gridcolor": "white",
             "linecolor": "white",
             "minorgridcolor": "white",
             "startlinecolor": "#2a3f5f"
            },
            "baxis": {
             "endlinecolor": "#2a3f5f",
             "gridcolor": "white",
             "linecolor": "white",
             "minorgridcolor": "white",
             "startlinecolor": "#2a3f5f"
            },
            "type": "carpet"
           }
          ],
          "choropleth": [
           {
            "colorbar": {
             "outlinewidth": 0,
             "ticks": ""
            },
            "type": "choropleth"
           }
          ],
          "contour": [
           {
            "colorbar": {
             "outlinewidth": 0,
             "ticks": ""
            },
            "colorscale": [
             [
              0,
              "#0d0887"
             ],
             [
              0.1111111111111111,
              "#46039f"
             ],
             [
              0.2222222222222222,
              "#7201a8"
             ],
             [
              0.3333333333333333,
              "#9c179e"
             ],
             [
              0.4444444444444444,
              "#bd3786"
             ],
             [
              0.5555555555555556,
              "#d8576b"
             ],
             [
              0.6666666666666666,
              "#ed7953"
             ],
             [
              0.7777777777777778,
              "#fb9f3a"
             ],
             [
              0.8888888888888888,
              "#fdca26"
             ],
             [
              1,
              "#f0f921"
             ]
            ],
            "type": "contour"
           }
          ],
          "contourcarpet": [
           {
            "colorbar": {
             "outlinewidth": 0,
             "ticks": ""
            },
            "type": "contourcarpet"
           }
          ],
          "heatmap": [
           {
            "colorbar": {
             "outlinewidth": 0,
             "ticks": ""
            },
            "colorscale": [
             [
              0,
              "#0d0887"
             ],
             [
              0.1111111111111111,
              "#46039f"
             ],
             [
              0.2222222222222222,
              "#7201a8"
             ],
             [
              0.3333333333333333,
              "#9c179e"
             ],
             [
              0.4444444444444444,
              "#bd3786"
             ],
             [
              0.5555555555555556,
              "#d8576b"
             ],
             [
              0.6666666666666666,
              "#ed7953"
             ],
             [
              0.7777777777777778,
              "#fb9f3a"
             ],
             [
              0.8888888888888888,
              "#fdca26"
             ],
             [
              1,
              "#f0f921"
             ]
            ],
            "type": "heatmap"
           }
          ],
          "heatmapgl": [
           {
            "colorbar": {
             "outlinewidth": 0,
             "ticks": ""
            },
            "colorscale": [
             [
              0,
              "#0d0887"
             ],
             [
              0.1111111111111111,
              "#46039f"
             ],
             [
              0.2222222222222222,
              "#7201a8"
             ],
             [
              0.3333333333333333,
              "#9c179e"
             ],
             [
              0.4444444444444444,
              "#bd3786"
             ],
             [
              0.5555555555555556,
              "#d8576b"
             ],
             [
              0.6666666666666666,
              "#ed7953"
             ],
             [
              0.7777777777777778,
              "#fb9f3a"
             ],
             [
              0.8888888888888888,
              "#fdca26"
             ],
             [
              1,
              "#f0f921"
             ]
            ],
            "type": "heatmapgl"
           }
          ],
          "histogram": [
           {
            "marker": {
             "pattern": {
              "fillmode": "overlay",
              "size": 10,
              "solidity": 0.2
             }
            },
            "type": "histogram"
           }
          ],
          "histogram2d": [
           {
            "colorbar": {
             "outlinewidth": 0,
             "ticks": ""
            },
            "colorscale": [
             [
              0,
              "#0d0887"
             ],
             [
              0.1111111111111111,
              "#46039f"
             ],
             [
              0.2222222222222222,
              "#7201a8"
             ],
             [
              0.3333333333333333,
              "#9c179e"
             ],
             [
              0.4444444444444444,
              "#bd3786"
             ],
             [
              0.5555555555555556,
              "#d8576b"
             ],
             [
              0.6666666666666666,
              "#ed7953"
             ],
             [
              0.7777777777777778,
              "#fb9f3a"
             ],
             [
              0.8888888888888888,
              "#fdca26"
             ],
             [
              1,
              "#f0f921"
             ]
            ],
            "type": "histogram2d"
           }
          ],
          "histogram2dcontour": [
           {
            "colorbar": {
             "outlinewidth": 0,
             "ticks": ""
            },
            "colorscale": [
             [
              0,
              "#0d0887"
             ],
             [
              0.1111111111111111,
              "#46039f"
             ],
             [
              0.2222222222222222,
              "#7201a8"
             ],
             [
              0.3333333333333333,
              "#9c179e"
             ],
             [
              0.4444444444444444,
              "#bd3786"
             ],
             [
              0.5555555555555556,
              "#d8576b"
             ],
             [
              0.6666666666666666,
              "#ed7953"
             ],
             [
              0.7777777777777778,
              "#fb9f3a"
             ],
             [
              0.8888888888888888,
              "#fdca26"
             ],
             [
              1,
              "#f0f921"
             ]
            ],
            "type": "histogram2dcontour"
           }
          ],
          "mesh3d": [
           {
            "colorbar": {
             "outlinewidth": 0,
             "ticks": ""
            },
            "type": "mesh3d"
           }
          ],
          "parcoords": [
           {
            "line": {
             "colorbar": {
              "outlinewidth": 0,
              "ticks": ""
             }
            },
            "type": "parcoords"
           }
          ],
          "pie": [
           {
            "automargin": true,
            "type": "pie"
           }
          ],
          "scatter": [
           {
            "fillpattern": {
             "fillmode": "overlay",
             "size": 10,
             "solidity": 0.2
            },
            "type": "scatter"
           }
          ],
          "scatter3d": [
           {
            "line": {
             "colorbar": {
              "outlinewidth": 0,
              "ticks": ""
             }
            },
            "marker": {
             "colorbar": {
              "outlinewidth": 0,
              "ticks": ""
             }
            },
            "type": "scatter3d"
           }
          ],
          "scattercarpet": [
           {
            "marker": {
             "colorbar": {
              "outlinewidth": 0,
              "ticks": ""
             }
            },
            "type": "scattercarpet"
           }
          ],
          "scattergeo": [
           {
            "marker": {
             "colorbar": {
              "outlinewidth": 0,
              "ticks": ""
             }
            },
            "type": "scattergeo"
           }
          ],
          "scattergl": [
           {
            "marker": {
             "colorbar": {
              "outlinewidth": 0,
              "ticks": ""
             }
            },
            "type": "scattergl"
           }
          ],
          "scattermapbox": [
           {
            "marker": {
             "colorbar": {
              "outlinewidth": 0,
              "ticks": ""
             }
            },
            "type": "scattermapbox"
           }
          ],
          "scatterpolar": [
           {
            "marker": {
             "colorbar": {
              "outlinewidth": 0,
              "ticks": ""
             }
            },
            "type": "scatterpolar"
           }
          ],
          "scatterpolargl": [
           {
            "marker": {
             "colorbar": {
              "outlinewidth": 0,
              "ticks": ""
             }
            },
            "type": "scatterpolargl"
           }
          ],
          "scatterternary": [
           {
            "marker": {
             "colorbar": {
              "outlinewidth": 0,
              "ticks": ""
             }
            },
            "type": "scatterternary"
           }
          ],
          "surface": [
           {
            "colorbar": {
             "outlinewidth": 0,
             "ticks": ""
            },
            "colorscale": [
             [
              0,
              "#0d0887"
             ],
             [
              0.1111111111111111,
              "#46039f"
             ],
             [
              0.2222222222222222,
              "#7201a8"
             ],
             [
              0.3333333333333333,
              "#9c179e"
             ],
             [
              0.4444444444444444,
              "#bd3786"
             ],
             [
              0.5555555555555556,
              "#d8576b"
             ],
             [
              0.6666666666666666,
              "#ed7953"
             ],
             [
              0.7777777777777778,
              "#fb9f3a"
             ],
             [
              0.8888888888888888,
              "#fdca26"
             ],
             [
              1,
              "#f0f921"
             ]
            ],
            "type": "surface"
           }
          ],
          "table": [
           {
            "cells": {
             "fill": {
              "color": "#EBF0F8"
             },
             "line": {
              "color": "white"
             }
            },
            "header": {
             "fill": {
              "color": "#C8D4E3"
             },
             "line": {
              "color": "white"
             }
            },
            "type": "table"
           }
          ]
         },
         "layout": {
          "annotationdefaults": {
           "arrowcolor": "#2a3f5f",
           "arrowhead": 0,
           "arrowwidth": 1
          },
          "autotypenumbers": "strict",
          "coloraxis": {
           "colorbar": {
            "outlinewidth": 0,
            "ticks": ""
           }
          },
          "colorscale": {
           "diverging": [
            [
             0,
             "#8e0152"
            ],
            [
             0.1,
             "#c51b7d"
            ],
            [
             0.2,
             "#de77ae"
            ],
            [
             0.3,
             "#f1b6da"
            ],
            [
             0.4,
             "#fde0ef"
            ],
            [
             0.5,
             "#f7f7f7"
            ],
            [
             0.6,
             "#e6f5d0"
            ],
            [
             0.7,
             "#b8e186"
            ],
            [
             0.8,
             "#7fbc41"
            ],
            [
             0.9,
             "#4d9221"
            ],
            [
             1,
             "#276419"
            ]
           ],
           "sequential": [
            [
             0,
             "#0d0887"
            ],
            [
             0.1111111111111111,
             "#46039f"
            ],
            [
             0.2222222222222222,
             "#7201a8"
            ],
            [
             0.3333333333333333,
             "#9c179e"
            ],
            [
             0.4444444444444444,
             "#bd3786"
            ],
            [
             0.5555555555555556,
             "#d8576b"
            ],
            [
             0.6666666666666666,
             "#ed7953"
            ],
            [
             0.7777777777777778,
             "#fb9f3a"
            ],
            [
             0.8888888888888888,
             "#fdca26"
            ],
            [
             1,
             "#f0f921"
            ]
           ],
           "sequentialminus": [
            [
             0,
             "#0d0887"
            ],
            [
             0.1111111111111111,
             "#46039f"
            ],
            [
             0.2222222222222222,
             "#7201a8"
            ],
            [
             0.3333333333333333,
             "#9c179e"
            ],
            [
             0.4444444444444444,
             "#bd3786"
            ],
            [
             0.5555555555555556,
             "#d8576b"
            ],
            [
             0.6666666666666666,
             "#ed7953"
            ],
            [
             0.7777777777777778,
             "#fb9f3a"
            ],
            [
             0.8888888888888888,
             "#fdca26"
            ],
            [
             1,
             "#f0f921"
            ]
           ]
          },
          "colorway": [
           "#636efa",
           "#EF553B",
           "#00cc96",
           "#ab63fa",
           "#FFA15A",
           "#19d3f3",
           "#FF6692",
           "#B6E880",
           "#FF97FF",
           "#FECB52"
          ],
          "font": {
           "color": "#2a3f5f"
          },
          "geo": {
           "bgcolor": "white",
           "lakecolor": "white",
           "landcolor": "#E5ECF6",
           "showlakes": true,
           "showland": true,
           "subunitcolor": "white"
          },
          "hoverlabel": {
           "align": "left"
          },
          "hovermode": "closest",
          "mapbox": {
           "style": "light"
          },
          "paper_bgcolor": "white",
          "plot_bgcolor": "#E5ECF6",
          "polar": {
           "angularaxis": {
            "gridcolor": "white",
            "linecolor": "white",
            "ticks": ""
           },
           "bgcolor": "#E5ECF6",
           "radialaxis": {
            "gridcolor": "white",
            "linecolor": "white",
            "ticks": ""
           }
          },
          "scene": {
           "xaxis": {
            "backgroundcolor": "#E5ECF6",
            "gridcolor": "white",
            "gridwidth": 2,
            "linecolor": "white",
            "showbackground": true,
            "ticks": "",
            "zerolinecolor": "white"
           },
           "yaxis": {
            "backgroundcolor": "#E5ECF6",
            "gridcolor": "white",
            "gridwidth": 2,
            "linecolor": "white",
            "showbackground": true,
            "ticks": "",
            "zerolinecolor": "white"
           },
           "zaxis": {
            "backgroundcolor": "#E5ECF6",
            "gridcolor": "white",
            "gridwidth": 2,
            "linecolor": "white",
            "showbackground": true,
            "ticks": "",
            "zerolinecolor": "white"
           }
          },
          "shapedefaults": {
           "line": {
            "color": "#2a3f5f"
           }
          },
          "ternary": {
           "aaxis": {
            "gridcolor": "white",
            "linecolor": "white",
            "ticks": ""
           },
           "baxis": {
            "gridcolor": "white",
            "linecolor": "white",
            "ticks": ""
           },
           "bgcolor": "#E5ECF6",
           "caxis": {
            "gridcolor": "white",
            "linecolor": "white",
            "ticks": ""
           }
          },
          "title": {
           "x": 0.05
          },
          "xaxis": {
           "automargin": true,
           "gridcolor": "white",
           "linecolor": "white",
           "ticks": "",
           "title": {
            "standoff": 15
           },
           "zerolinecolor": "white",
           "zerolinewidth": 2
          },
          "yaxis": {
           "automargin": true,
           "gridcolor": "white",
           "linecolor": "white",
           "ticks": "",
           "title": {
            "standoff": 15
           },
           "zerolinecolor": "white",
           "zerolinewidth": 2
          }
         }
        }
       }
      }
     },
     "metadata": {},
     "output_type": "display_data"
    }
   ],
   "source": [
    "df['Income level'] = df['Income level'].astype(str) #Перевели в стрингу, так как иначе данные бы не считались\n",
    "df['Income level'] = df.groupby('Country')['Income level'].transform('last')\n",
    "df['Unemployment rate'] = df.groupby('Country')['Unemployment rate'].transform('last')\n",
    "fig = px.scatter_mapbox(df.groupby(by=['Country'])[['Longitude', 'Latitude', 'GDP', 'Population', 'Income level', 'Unemployment rate']].last().reset_index(),\n",
    "                        lat='Latitude', lon='Longitude', color='Population', size='GDP',\n",
    "                        hover_name='Country', hover_data=['GDP', 'Population', 'Income level', 'Unemployment rate'],\n",
    "                        labels={'Income level': 'Income Level', 'Unemployment rate': 'Unemployment Rate', 'GDP': 'GDP', 'Population': 'Population'},\n",
    "                        zoom=1)\n",
    "# Обновление формата подсказки для каждого маркера на графике\n",
    "fig.update_traces(hovertemplate=\"<b>%{hovertext}</b><br><br>\" +\n",
    "                                 \"GDP: %{customdata[0]:,}<br>\" +\n",
    "                                 \"Population: %{customdata[1]:,}<br>\" +\n",
    "                                 \"Income Level: %{customdata[2]}<br>\" +\n",
    "                                 \"Unemployment Rate: %{customdata[3]}\")\n",
    "\n",
    "fig.show()"
   ]
  },
  {
   "attachments": {},
   "cell_type": "markdown",
   "metadata": {},
   "source": [
    "### Анализ данных"
   ]
  },
  {
   "attachments": {},
   "cell_type": "markdown",
   "metadata": {},
   "source": [
    "Проведем анализ связи экономических показателей. Начнем с ВВП и уровнем дохода. Так как уровень дохода в данных не является числом, припишем разным уровням дохода значения."
   ]
  },
  {
   "cell_type": "code",
   "execution_count": 23,
   "metadata": {},
   "outputs": [
    {
     "name": "stdout",
     "output_type": "stream",
     "text": [
      "Коэффициент корреляции между 'Income level' и 'GDP': 0.15687811097397764\n"
     ]
    },
    {
     "data": {
      "image/png": "[encoded data removed]",
      "text/plain": [
       "<Figure size 500x500 with 1 Axes>"
      ]
     },
     "metadata": {},
     "output_type": "display_data"
    }
   ],
   "source": [
    "import seaborn as sns\n",
    "\n",
    "data = df[['Income level', 'GDP']].dropna()\n",
    "# Преобразование значений уровня дохода в числа для дальнейшего анализа\n",
    "income_level_mapping = {'Low income': 1, 'Lower middle income': 2, 'Upper middle income': 3, 'High income': 4} \n",
    "data['Income level'] = data['Income level'].map(income_level_mapping)\n",
    "\n",
    "correlation = data['Income level'].corr(data['GDP'])\n",
    "\n",
    "sns.lmplot(x='Income level', y='GDP', data=data) # Точечный график с линейной регрессией\n",
    "\n",
    "print(f\"Коэффициент корреляции между 'Income level' и 'GDP': {correlation}\")"
   ]
  },
  {
   "attachments": {},
   "cell_type": "markdown",
   "metadata": {},
   "source": [
    "Существует положительная корреляция между уровнем дохода и ВВП. Однако уровенль дохода является далеко не единственным фактором, влияющим на ВВП, Поэтому добавим в анализ такие параметры как инфляция, уровень безработцы и инвестиции. Построим корреляционную матрицу и посмотрим на результат. "
   ]
  },
  {
   "cell_type": "code",
   "execution_count": 26,
   "metadata": {},
   "outputs": [
    {
     "data": {
      "image/png": "[encoded data removed]",
      "text/plain": [
       "<Figure size 640x480 with 2 Axes>"
      ]
     },
     "metadata": {},
     "output_type": "display_data"
    }
   ],
   "source": [
    "import matplotlib.pyplot as plt\n",
    "\n",
    "data = df[['Income level', 'GDP', 'Inflation', 'Unemployment rate', 'Investments']].copy()\n",
    "# Преобразование значений уровня дохода в числа для дальнейшего анализа\n",
    "data['Income level'] = data['Income level'].map({'Low income': 1, 'Lower middle income': 2, 'Upper middle income': 3, 'High income': 4})\n",
    "# Матрица корреляции между показателями\n",
    "correlation_matrix = data.corr()\n",
    "# Тепловая карта\n",
    "sns.heatmap(correlation_matrix, annot=True, cmap='coolwarm')\n",
    "\n",
    "plt.title('Correlation Analysis')\n",
    "plt.show()"
   ]
  },
  {
   "attachments": {},
   "cell_type": "markdown",
   "metadata": {},
   "source": [
    "Наблюдается негативная, но не сильная корреляция между инфляцией и уровнем инвестиций . Это может указывать на то, что высокая инфляция может отталкивать инвесторов и снижать объем инвестиций в страну. Можно предположить, что стабильность цен может способствовать привлечению инвестиций и устойчивому экономическому росту."
   ]
  },
  {
   "attachments": {},
   "cell_type": "markdown",
   "metadata": {},
   "source": [
    "Также можно сделать вывод о наличии положительной связи между инвестициями и ВВП. Это подтверждается значимым коэффициентом корреляции (0,94), который указывает на прямую зависимость между этими двумя переменными. Этот вывод в целом достаточно очевиден, но мы получили статистическое подтверждение."
   ]
  },
  {
   "attachments": {},
   "cell_type": "markdown",
   "metadata": {},
   "source": [
    "В целом по данной корреляционной матрице сложно сделать серьезные выводы о взаимосвязи различных экономических показателей, так как исследование довольно поверхностно в силу небольшого количества рассматриваемых экономических факторов."
   ]
  },
  {
   "attachments": {},
   "cell_type": "markdown",
   "metadata": {},
   "source": [
    "Давайте проведем анализ влияния внешней торговли на экономическое развитие страны. Так как стран в данных много, возьмем только топ-10 стран по ВВП. В качестве экономического показателя будем использовать торговый баланс (разницу экспорта и импорта)"
   ]
  },
  {
   "attachments": {},
   "cell_type": "markdown",
   "metadata": {},
   "source": [
    "Давайте выясним, какой характер имеет зависимость между торговым балансом и ВВП страны. Для этого найдем корреляцию между этими показателями для топ-трех стран по ВВП (США, Китай, Япония) и отдельно для России. Прошу заметить, что тут нет Индии просто потому что по ней не удалось получить данные. Также будет ползено указать какое место страна занимает в списке стран по ВВП. Будем брать данные за 2021 год."
   ]
  },
  {
   "cell_type": "code",
   "execution_count": 51,
   "metadata": {},
   "outputs": [
    {
     "data": {
      "image/png": "[encoded data removed]",
      "text/plain": [
       "<Figure size 800x600 with 1 Axes>"
      ]
     },
     "metadata": {},
     "output_type": "display_data"
    },
    {
     "data": {
      "image/png": "[encoded data removed]",
      "text/plain": [
       "<Figure size 800x600 with 1 Axes>"
      ]
     },
     "metadata": {},
     "output_type": "display_data"
    },
    {
     "data": {
      "image/png": "[encoded data removed]",
      "text/plain": [
       "<Figure size 800x600 with 1 Axes>"
      ]
     },
     "metadata": {},
     "output_type": "display_data"
    },
    {
     "data": {
      "image/png": "[encoded data removed]",
      "text/plain": [
       "<Figure size 800x600 with 1 Axes>"
      ]
     },
     "metadata": {},
     "output_type": "display_data"
    }
   ],
   "source": [
    "\n",
    "countries = ['United States', 'China', 'Japan', 'Russian Federation']\n",
    "\n",
    "filtered_data = df[df['Country'].isin(countries)]\n",
    "\n",
    "# Определим места каждой страны в списке ВВП\n",
    "ranked_countries = df[df['Year'] == 2021].sort_values('GDP', ascending=False)['Country'].tolist()\n",
    "country_ranks = {country: ranked_countries.index(country) + 1 for country in countries}\n",
    "\n",
    "sns.set(style='ticks')\n",
    "# Итерируемся по выбранным странам\n",
    "for country in countries:\n",
    "    if country == 'Russian Federation':\n",
    "        country_data = filtered_data[filtered_data['Country'] == 'Russian Federation'] # Выбор данных только для России\n",
    "    else:\n",
    "        country_data = filtered_data[filtered_data['Country'] == country] # Выбор данных для остальных стран\n",
    "    \n",
    "    correlation = country_data['GDP'].corr(country_data['Trade Balance']) # Вычисление коэффициента корреляции\n",
    "    correlation = np.round(correlation, decimals=2)\n",
    "    \n",
    "    plt.figure(figsize=(8, 6))\n",
    "    sns.regplot(x='Trade Balance', y='GDP', data=country_data, ci=None)\n",
    "    plt.title(f'Correlation between Trade Balance and GDP for {country}\\nCorrelation: {correlation}')\n",
    "    plt.xlabel('Trade Balance')\n",
    "    plt.ylabel('GDP')\n",
    "    plt.grid(True)\n",
    "    # Добавили на график место(ранг) страны в списке ВВП\n",
    "    rank = country_ranks[country]\n",
    "    plt.text(0.95, 0.05, f'Rank in GDP: {rank}', transform=plt.gca().transAxes,\n",
    "             ha='right', va='bottom', bbox=dict(facecolor='white', edgecolor='gray'))\n",
    "    \n",
    "    plt.show()\n"
   ]
  },
  {
   "attachments": {},
   "cell_type": "markdown",
   "metadata": {},
   "source": [
    "Мы получили довольно интересный результат. Казалось бы, торговля играет большую роль в формировании ВВП страны. Однако мы видим на примере Японии, что корреляция между ВВП и торговым балансом практически отсутсвует. Также оказалось, что сворешенно неважен и знак торгового баланса (превышает ли экспорт импорт или наоборот). Например, США имеет высокую отрицательную корреляцию, а Китай высокую положительную."
   ]
  },
  {
   "attachments": {},
   "cell_type": "markdown",
   "metadata": {},
   "source": [
    "### Предсказание (Линейная регрессия)"
   ]
  },
  {
   "cell_type": "code",
   "execution_count": 63,
   "metadata": {},
   "outputs": [
    {
     "data": {
      "image/png": "[encoded data removed]",
      "text/plain": [
       "<Figure size 1000x800 with 8 Axes>"
      ]
     },
     "metadata": {},
     "output_type": "display_data"
    }
   ],
   "source": [
    "from sklearn.linear_model import LinearRegression\n",
    "\n",
    "predictions = {}\n",
    "\n",
    "future_years = range(2022, 2032) # Будем делать предсказание на следующие 10 лет\n",
    "\n",
    "\n",
    "fig, axs = plt.subplots(len(countries), 2, figsize=(10, 8), sharex=True)\n",
    "\n",
    "for i, country in enumerate(countries): # Предсказание для каждой страны\n",
    "    \n",
    "    country_data = df[df['Country'] == country]\n",
    "\n",
    "    country_data = country_data.dropna(subset=['GDP', 'Trade Balance']) # Удалим строки с отсутсвующими значениями\n",
    "    \n",
    "    features = country_data[['Year']] # Обозначаем переменные для предсказания\n",
    "    target_gdp = country_data['GDP']\n",
    "    target_trade_balance = country_data['Trade Balance']\n",
    "    \n",
    "\n",
    "    gdp_model = LinearRegression() # Обучение модели для ВВП\n",
    "    gdp_model.fit(features, target_gdp)\n",
    "    future_features = pd.DataFrame({'Year': future_years})\n",
    "    gdp_predictions = gdp_model.predict(future_features)\n",
    "    \n",
    "    trade_model = LinearRegression() # Обучение модели для торгового баланса\n",
    "    trade_model.fit(features, target_trade_balance)\n",
    "    trade_predictions = trade_model.predict(future_features)\n",
    "    \n",
    "    predictions[country] = {'GDP': gdp_predictions, 'Trade Balance': trade_predictions} # Записываем предсказание\n",
    "    \n",
    "    # Отрисовываем\n",
    "    axs[i, 0].plot(future_years, gdp_predictions, label='GDP')\n",
    "    axs[i, 0].set_ylabel('GDP')\n",
    "    axs[i, 0].grid(True)\n",
    "    \n",
    "    axs[i, 1].plot(future_years, trade_predictions, label='Trade Balance')\n",
    "    axs[i, 1].set_ylabel('Trade Balance')\n",
    "    axs[i, 1].grid(True)\n",
    "    \n",
    "    axs[i, 0].set_title(country)\n",
    "\n"
   ]
  },
  {
   "attachments": {},
   "cell_type": "markdown",
   "metadata": {},
   "source": [
    "Результат предсказания довольно ожидаем. ВВП стран в среднем продолжит расти, торговый баланс будет изменяться в соответсвии с внешней политикой страны."
   ]
  },
  {
   "attachments": {},
   "cell_type": "markdown",
   "metadata": {},
   "source": [
    "### Подитог"
   ]
  },
  {
   "attachments": {},
   "cell_type": "markdown",
   "metadata": {},
   "source": [
    "В этом проекте можно было бы сделать дополнительно много чего интересного, но, к сожалени, это всё, что я успел. Дальнейшие продвижения по проекту будут при подготовке видео-визитки для Иннополиса"
   ]
  },
  {
   "attachments": {},
   "cell_type": "markdown",
   "metadata": {},
   "source": []
  }
 ],
 "metadata": {
  "interpreter": {
   "hash": "1eb2f067911a5ab716546c09d7f59ca375ff5029636eedb8c7d597a850bc679b"
  },
  "kernelspec": {
   "display_name": "Python 3.9.7 64-bit ('base': conda)",
   "name": "python3"
  },
  "language_info": {
   "codemirror_mode": {
    "name": "ipython",
    "version": 3
   },
   "file_extension": ".py",
   "mimetype": "text/x-python",
   "name": "python",
   "nbconvert_exporter": "python",
   "pygments_lexer": "ipython3",
   "version": "3.9.7"
  },
  "orig_nbformat": 4
 },
 "nbformat": 4,
 "nbformat_minor": 2
}
